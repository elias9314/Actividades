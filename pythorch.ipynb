{
  "nbformat": 4,
  "nbformat_minor": 0,
  "metadata": {
    "colab": {
      "name": "pythorch.ipynb",
      "provenance": [],
      "authorship_tag": "ABX9TyNbjjdBRTUQmo4PfzBok3xy",
      "include_colab_link": true
    },
    "kernelspec": {
      "name": "python3",
      "display_name": "Python 3"
    }
  },
  "cells": [
    {
      "cell_type": "markdown",
      "metadata": {
        "id": "view-in-github",
        "colab_type": "text"
      },
      "source": [
        "<a href=\"https://colab.research.google.com/github/elias9314/Actividades/blob/master/pythorch.ipynb\" target=\"_parent\"><img src=\"https://colab.research.google.com/assets/colab-badge.svg\" alt=\"Open In Colab\"/></a>"
      ]
    },
    {
      "cell_type": "code",
      "metadata": {
        "id": "b9oHlCDEUYVA",
        "colab_type": "code",
        "colab": {}
      },
      "source": [
        "import torch"
      ],
      "execution_count": 1,
      "outputs": []
    },
    {
      "cell_type": "code",
      "metadata": {
        "id": "xCasUUo_WQGm",
        "colab_type": "code",
        "colab": {
          "base_uri": "https://localhost:8080/",
          "height": 35
        },
        "outputId": "553f5998-b2ba-4adb-a676-2deabc4bbb66"
      },
      "source": [
        "torch.__version__"
      ],
      "execution_count": 2,
      "outputs": [
        {
          "output_type": "execute_result",
          "data": {
            "application/vnd.google.colaboratory.intrinsic+json": {
              "type": "string"
            },
            "text/plain": [
              "'1.6.0+cu101'"
            ]
          },
          "metadata": {
            "tags": []
          },
          "execution_count": 2
        }
      ]
    },
    {
      "cell_type": "code",
      "metadata": {
        "id": "MTHVRfuMWdut",
        "colab_type": "code",
        "colab": {
          "base_uri": "https://localhost:8080/",
          "height": 51
        },
        "outputId": "3a0d7f53-2cff-4614-a593-60ec2ea538d2"
      },
      "source": [
        "# la funcion ones sirve para llenar una matriz con valores de uno\n",
        "tensor_a = torch.ones(2,2)\n",
        "tensor_a"
      ],
      "execution_count": 3,
      "outputs": [
        {
          "output_type": "execute_result",
          "data": {
            "text/plain": [
              "tensor([[1., 1.],\n",
              "        [1., 1.]])"
            ]
          },
          "metadata": {
            "tags": []
          },
          "execution_count": 3
        }
      ]
    },
    {
      "cell_type": "code",
      "metadata": {
        "id": "QEtmbcLPWd6B",
        "colab_type": "code",
        "colab": {
          "base_uri": "https://localhost:8080/",
          "height": 85
        },
        "outputId": "3763ee0c-da95-4ad2-e6d8-d0d68853a16e"
      },
      "source": [
        "tenso_p = torch.ones(4,4)\n",
        "print(tenso_p)"
      ],
      "execution_count": 4,
      "outputs": [
        {
          "output_type": "stream",
          "text": [
            "tensor([[1., 1., 1., 1.],\n",
            "        [1., 1., 1., 1.],\n",
            "        [1., 1., 1., 1.],\n",
            "        [1., 1., 1., 1.]])\n"
          ],
          "name": "stdout"
        }
      ]
    },
    {
      "cell_type": "code",
      "metadata": {
        "id": "PMVefAYOWeFH",
        "colab_type": "code",
        "colab": {
          "base_uri": "https://localhost:8080/",
          "height": 85
        },
        "outputId": "25b93c35-3fb2-421a-9be3-9518e64b130d"
      },
      "source": [
        "# la funcion Tensor nos permite llenar la matriz con datos aleatorios\n",
        "tenso_b = torch.Tensor(4,4)\n",
        "tenso_b"
      ],
      "execution_count": 5,
      "outputs": [
        {
          "output_type": "execute_result",
          "data": {
            "text/plain": [
              "tensor([[2.1097e-36, 0.0000e+00, 3.7835e-44, 0.0000e+00],\n",
              "        [       nan, 6.4460e-44, 1.3733e-14, 6.4069e+02],\n",
              "        [4.3066e+21, 1.1824e+22, 4.3066e+21, 6.3828e+28],\n",
              "        [3.8016e-39, 0.0000e+00, 0.0000e+00, 0.0000e+00]])"
            ]
          },
          "metadata": {
            "tags": []
          },
          "execution_count": 5
        }
      ]
    },
    {
      "cell_type": "code",
      "metadata": {
        "id": "_hBlQukaXgen",
        "colab_type": "code",
        "colab": {
          "base_uri": "https://localhost:8080/",
          "height": 153
        },
        "outputId": "c5c19cfe-e034-43ae-dc26-a562af067686"
      },
      "source": [
        "# una de las funciones que nos permite dar un limite que podemos dar a los datos en .uniform_\n",
        "tensor_b = torch.Tensor(4,4)\n",
        "print(tensor_b)\n",
        "tensor_b.uniform_(0,1)"
      ],
      "execution_count": 8,
      "outputs": [
        {
          "output_type": "stream",
          "text": [
            "tensor([[2.1100e-36, 0.0000e+00, 2.2421e-44, 0.0000e+00],\n",
            "        [1.4013e-45, 0.0000e+00, 4.8222e+30, 1.8057e+28],\n",
            "        [7.9050e+31, 5.5515e-08, 4.5081e+16, 6.6018e-10],\n",
            "        [1.6615e-07, 1.3032e-43, 0.0000e+00, 0.0000e+00]])\n"
          ],
          "name": "stdout"
        },
        {
          "output_type": "execute_result",
          "data": {
            "text/plain": [
              "tensor([[0.4310, 0.2018, 0.5216, 0.6928],\n",
              "        [0.9653, 0.8408, 0.3197, 0.1105],\n",
              "        [0.1483, 0.9966, 0.5180, 0.1539],\n",
              "        [0.5461, 0.8939, 0.5416, 0.4228]])"
            ]
          },
          "metadata": {
            "tags": []
          },
          "execution_count": 8
        }
      ]
    },
    {
      "cell_type": "code",
      "metadata": {
        "id": "LhKoPbbEXgkh",
        "colab_type": "code",
        "colab": {
          "base_uri": "https://localhost:8080/",
          "height": 85
        },
        "outputId": "0d86bb59-fddc-4bbd-924d-d7b56ec382e1"
      },
      "source": [
        "#para generar datos aleatorios utilizamos el metodo .rand\n",
        "tensor_c = torch.rand(4,4)\n",
        "tensor_c"
      ],
      "execution_count": 10,
      "outputs": [
        {
          "output_type": "execute_result",
          "data": {
            "text/plain": [
              "tensor([[0.2663, 0.2983, 0.8996, 0.1110],\n",
              "        [0.6411, 0.9792, 0.8877, 0.7790],\n",
              "        [0.2989, 0.2461, 0.5122, 0.0625],\n",
              "        [0.8821, 0.4996, 0.7103, 0.6089]])"
            ]
          },
          "metadata": {
            "tags": []
          },
          "execution_count": 10
        }
      ]
    },
    {
      "cell_type": "code",
      "metadata": {
        "id": "D6S5vrtKXgph",
        "colab_type": "code",
        "colab": {
          "base_uri": "https://localhost:8080/",
          "height": 85
        },
        "outputId": "b0f44306-fe6c-47ef-9e55-c0932ea11a95"
      },
      "source": [
        "# Podemos realizar operaciones siempre y cuando las matematicas sean correctas\n",
        "result = tensor_b + tensor_c\n",
        "result"
      ],
      "execution_count": 11,
      "outputs": [
        {
          "output_type": "execute_result",
          "data": {
            "text/plain": [
              "tensor([[0.6974, 0.5001, 1.4212, 0.8038],\n",
              "        [1.6064, 1.8200, 1.2074, 0.8895],\n",
              "        [0.4472, 1.2427, 1.0302, 0.2163],\n",
              "        [1.4281, 1.3935, 1.2519, 1.0317]])"
            ]
          },
          "metadata": {
            "tags": []
          },
          "execution_count": 11
        }
      ]
    },
    {
      "cell_type": "code",
      "metadata": {
        "id": "am85dEOsXgvS",
        "colab_type": "code",
        "colab": {
          "base_uri": "https://localhost:8080/",
          "height": 85
        },
        "outputId": "84a9af87-91f9-4703-a8e1-7c1a92b124cf"
      },
      "source": [
        "resultado = tensor_b - tensor_c\n",
        "resultado"
      ],
      "execution_count": 12,
      "outputs": [
        {
          "output_type": "execute_result",
          "data": {
            "text/plain": [
              "tensor([[ 0.1647, -0.0966, -0.3780,  0.5818],\n",
              "        [ 0.3243, -0.1384, -0.5679, -0.6685],\n",
              "        [-0.1506,  0.7504,  0.0058,  0.0914],\n",
              "        [-0.3360,  0.3942, -0.1687, -0.1861]])"
            ]
          },
          "metadata": {
            "tags": []
          },
          "execution_count": 12
        }
      ]
    },
    {
      "cell_type": "code",
      "metadata": {
        "id": "vyrykji6WeNN",
        "colab_type": "code",
        "colab": {
          "base_uri": "https://localhost:8080/",
          "height": 34
        },
        "outputId": "6f0bfc99-b7f6-47dd-b515-069aac9cf421"
      },
      "source": [
        "# el metodo .shape nos da las dimensiones de nuestro tensor\n",
        "resultado.shape"
      ],
      "execution_count": 13,
      "outputs": [
        {
          "output_type": "execute_result",
          "data": {
            "text/plain": [
              "torch.Size([4, 4])"
            ]
          },
          "metadata": {
            "tags": []
          },
          "execution_count": 13
        }
      ]
    },
    {
      "cell_type": "code",
      "metadata": {
        "id": "z6rK-a1pZjF_",
        "colab_type": "code",
        "colab": {
          "base_uri": "https://localhost:8080/",
          "height": 71
        },
        "outputId": "e58639f3-3c70-48e3-8001-776b855f2551"
      },
      "source": [
        "# .view tranforma el tensor en caso de ser necesario\n",
        "resultadotensor = resultado.view(1,16)\n",
        "print(resultadotensor)"
      ],
      "execution_count": 14,
      "outputs": [
        {
          "output_type": "stream",
          "text": [
            "tensor([[ 0.1647, -0.0966, -0.3780,  0.5818,  0.3243, -0.1384, -0.5679, -0.6685,\n",
            "         -0.1506,  0.7504,  0.0058,  0.0914, -0.3360,  0.3942, -0.1687, -0.1861]])\n"
          ],
          "name": "stdout"
        }
      ]
    },
    {
      "cell_type": "code",
      "metadata": {
        "id": "hkviEq2-ZjLQ",
        "colab_type": "code",
        "colab": {
          "base_uri": "https://localhost:8080/",
          "height": 71
        },
        "outputId": "fd2df2fc-33f3-4a46-b18f-5ec9b0b3898f"
      },
      "source": [
        "resultadotensor = resultado.view(1,16)\n",
        "resultadotensor"
      ],
      "execution_count": 15,
      "outputs": [
        {
          "output_type": "execute_result",
          "data": {
            "text/plain": [
              "tensor([[ 0.1647, -0.0966, -0.3780,  0.5818,  0.3243, -0.1384, -0.5679, -0.6685,\n",
              "         -0.1506,  0.7504,  0.0058,  0.0914, -0.3360,  0.3942, -0.1687, -0.1861]])"
            ]
          },
          "metadata": {
            "tags": []
          },
          "execution_count": 15
        }
      ]
    },
    {
      "cell_type": "code",
      "metadata": {
        "id": "PsIxBb4Iai7d",
        "colab_type": "code",
        "colab": {
          "base_uri": "https://localhost:8080/",
          "height": 85
        },
        "outputId": "963e5014-4c15-4ad4-a422-8a45d2cb5703"
      },
      "source": [
        "# el metodo .tensor nos permite agregar datos en una matriz en base a lo que el autor lo desee o necesite\n",
        "tensor_d = torch.tensor([[1.0,1.1,1.2,1.3],[1.4,1.5,1.6,1.7],[0.1,0.2,0.3,0.4],[2.1,2.2,2.3,2.4]])\n",
        "tensor_d"
      ],
      "execution_count": 16,
      "outputs": [
        {
          "output_type": "execute_result",
          "data": {
            "text/plain": [
              "tensor([[1.0000, 1.1000, 1.2000, 1.3000],\n",
              "        [1.4000, 1.5000, 1.6000, 1.7000],\n",
              "        [0.1000, 0.2000, 0.3000, 0.4000],\n",
              "        [2.1000, 2.2000, 2.3000, 2.4000]])"
            ]
          },
          "metadata": {
            "tags": []
          },
          "execution_count": 16
        }
      ]
    },
    {
      "cell_type": "code",
      "metadata": {
        "id": "piiBeUVcajFm",
        "colab_type": "code",
        "colab": {
          "base_uri": "https://localhost:8080/",
          "height": 34
        },
        "outputId": "20f44390-2443-4e1d-c11c-12ea35f51685"
      },
      "source": [
        "# para llamar un dato especifico, se lo llama en base a su ubicacion dentro de la matriz\n",
        "print(tensor_d[3][3])"
      ],
      "execution_count": 20,
      "outputs": [
        {
          "output_type": "stream",
          "text": [
            "tensor(2.4000)\n"
          ],
          "name": "stdout"
        }
      ]
    },
    {
      "cell_type": "code",
      "metadata": {
        "id": "WckTJhF9ajPJ",
        "colab_type": "code",
        "colab": {
          "base_uri": "https://localhost:8080/",
          "height": 85
        },
        "outputId": "4b33a805-4e15-4971-832d-901689026172"
      },
      "source": [
        "# para cambiar el dato de una matriz se lo hace de la siguiente manera:\n",
        "tensor_d [3][3] = 0.45\n",
        "print(tensor_d)"
      ],
      "execution_count": 21,
      "outputs": [
        {
          "output_type": "stream",
          "text": [
            "tensor([[1.0000, 1.1000, 1.2000, 1.3000],\n",
            "        [1.4000, 1.5000, 1.6000, 1.7000],\n",
            "        [0.1000, 0.2000, 0.3000, 0.4000],\n",
            "        [2.1000, 2.2000, 2.3000, 0.4500]])\n"
          ],
          "name": "stdout"
        }
      ]
    },
    {
      "cell_type": "code",
      "metadata": {
        "id": "eOeJ213Vcwz7",
        "colab_type": "code",
        "colab": {
          "base_uri": "https://localhost:8080/",
          "height": 306
        },
        "outputId": "f4477dea-09d1-46da-a3fa-5d8a97912449"
      },
      "source": [
        "# .storage() nos permite guardar despecificamente en un espacio de memoria\n",
        "tensor_d.storage()"
      ],
      "execution_count": 22,
      "outputs": [
        {
          "output_type": "execute_result",
          "data": {
            "text/plain": [
              " 1.0\n",
              " 1.100000023841858\n",
              " 1.2000000476837158\n",
              " 1.2999999523162842\n",
              " 1.399999976158142\n",
              " 1.5\n",
              " 1.600000023841858\n",
              " 1.7000000476837158\n",
              " 0.10000000149011612\n",
              " 0.20000000298023224\n",
              " 0.30000001192092896\n",
              " 0.4000000059604645\n",
              " 2.0999999046325684\n",
              " 2.200000047683716\n",
              " 2.299999952316284\n",
              " 0.44999998807907104\n",
              "[torch.FloatStorage of size 16]"
            ]
          },
          "metadata": {
            "tags": []
          },
          "execution_count": 22
        }
      ]
    },
    {
      "cell_type": "code",
      "metadata": {
        "id": "IYysHe_Ncw4n",
        "colab_type": "code",
        "colab": {
          "base_uri": "https://localhost:8080/",
          "height": 85
        },
        "outputId": "d8c47d8e-eab1-4f86-c93d-ede6a31ebdb0"
      },
      "source": [
        "# el  metodo .stride, se refiere a como se puede mover una serie de datos a otra en base a las dimensiones del tensor o matriz\n",
        "tensor_d, tensor_d.stride()"
      ],
      "execution_count": 26,
      "outputs": [
        {
          "output_type": "execute_result",
          "data": {
            "text/plain": [
              "(tensor([[1.0000, 1.1000, 1.2000, 1.3000],\n",
              "         [1.4000, 1.5000, 1.6000, 1.7000],\n",
              "         [0.1000, 0.2000, 0.3000, 0.4000],\n",
              "         [2.1000, 2.2000, 2.3000, 0.4500]]), (4, 1))"
            ]
          },
          "metadata": {
            "tags": []
          },
          "execution_count": 26
        }
      ]
    },
    {
      "cell_type": "code",
      "metadata": {
        "id": "TQopGKZKcxCT",
        "colab_type": "code",
        "colab": {
          "base_uri": "https://localhost:8080/",
          "height": 85
        },
        "outputId": "bd51e508-3cfd-4097-8c24-61ebf1095ec7"
      },
      "source": [
        "# para crear una transpuesta utilizamos el .t\n",
        "transpuesta = tensor_d.t()\n",
        "transpuesta, transpuesta.stride()"
      ],
      "execution_count": 28,
      "outputs": [
        {
          "output_type": "execute_result",
          "data": {
            "text/plain": [
              "(tensor([[1.0000, 1.4000, 0.1000, 2.1000],\n",
              "         [1.1000, 1.5000, 0.2000, 2.2000],\n",
              "         [1.2000, 1.6000, 0.3000, 2.3000],\n",
              "         [1.3000, 1.7000, 0.4000, 0.4500]]), (1, 4))"
            ]
          },
          "metadata": {
            "tags": []
          },
          "execution_count": 28
        }
      ]
    },
    {
      "cell_type": "code",
      "metadata": {
        "id": "sO3L_z1tevSi",
        "colab_type": "code",
        "colab": {
          "base_uri": "https://localhost:8080/",
          "height": 187
        },
        "outputId": "5d89fe29-8c4d-479c-a581-ef67a4181bfd"
      },
      "source": [
        "# .unsqueeze agrega una dimension a un tensor en caso de ser necesario\n",
        "tensor_x = torch.tensor([1,2,3,4,5,6,7,8,9])\n",
        "print(tensor_x), torch.unsqueeze(tensor_x,1)"
      ],
      "execution_count": 30,
      "outputs": [
        {
          "output_type": "stream",
          "text": [
            "tensor([1, 2, 3, 4, 5, 6, 7, 8, 9])\n"
          ],
          "name": "stdout"
        },
        {
          "output_type": "execute_result",
          "data": {
            "text/plain": [
              "(None, tensor([[1],\n",
              "         [2],\n",
              "         [3],\n",
              "         [4],\n",
              "         [5],\n",
              "         [6],\n",
              "         [7],\n",
              "         [8],\n",
              "         [9]]))"
            ]
          },
          "metadata": {
            "tags": []
          },
          "execution_count": 30
        }
      ]
    },
    {
      "cell_type": "code",
      "metadata": {
        "id": "T3wS81RYevXu",
        "colab_type": "code",
        "colab": {}
      },
      "source": [
        "#biblioteca para el procesamiento de datoa en ml, principalmente numericos\n",
        "import numpy as np\n"
      ],
      "execution_count": 31,
      "outputs": []
    },
    {
      "cell_type": "code",
      "metadata": {
        "id": "vfSEQ36SZjSl",
        "colab_type": "code",
        "colab": {
          "base_uri": "https://localhost:8080/",
          "height": 85
        },
        "outputId": "4e324e5a-c747-4f56-8db0-a04ebd7c9f0e"
      },
      "source": [
        "numpayArray = np.random.randn(4,4)\n",
        "torch.from_numpy(numpayArray)"
      ],
      "execution_count": 32,
      "outputs": [
        {
          "output_type": "execute_result",
          "data": {
            "text/plain": [
              "tensor([[ 0.1846,  1.0085,  0.4514,  1.1427],\n",
              "        [-0.1354, -1.7204,  0.3051,  0.4348],\n",
              "        [-1.2806, -0.0801, -1.8361,  1.2286],\n",
              "        [ 0.2828, -0.4687,  2.2142,  2.4225]], dtype=torch.float64)"
            ]
          },
          "metadata": {
            "tags": []
          },
          "execution_count": 32
        }
      ]
    },
    {
      "cell_type": "code",
      "metadata": {
        "id": "fQjvGWbfWeMq",
        "colab_type": "code",
        "colab": {}
      },
      "source": [
        ""
      ],
      "execution_count": null,
      "outputs": []
    }
  ]
}