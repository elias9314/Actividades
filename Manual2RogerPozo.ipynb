{
 "cells": [
  {
   "cell_type": "code",
   "execution_count": 2,
   "metadata": {},
   "outputs": [
    {
     "name": "stdout",
     "output_type": "stream",
     "text": [
      "numpy version: 1.18.1\n"
     ]
    }
   ],
   "source": [
    "import numpy as np\n",
    "print('numpy version:',np.__version__)\n"
   ]
  },
  {
   "cell_type": "code",
   "execution_count": 4,
   "metadata": {},
   "outputs": [
    {
     "name": "stdout",
     "output_type": "stream",
     "text": [
      "[[1 2 3]\n",
      " [4 5 6]\n",
      " [7 8 9]]\n"
     ]
    }
   ],
   "source": [
    "# Numpy es una libreria para trabajar con vectores multidimensionales\n",
    "import numpy as np \n",
    "a= np.array([[1,2,3],[4,5,6],[7,8,9]])\n",
    "print(a)"
   ]
  },
  {
   "cell_type": "code",
   "execution_count": 4,
   "metadata": {},
   "outputs": [
    {
     "name": "stdout",
     "output_type": "stream",
     "text": [
      "[[3.+0.j 4.+0.j]\n",
      " [7.+0.j 8.+0.j]]\n"
     ]
    }
   ],
   "source": [
    "b=np.array([[3,4],[7,8]],dtype=np.complex64) # dtype devuelve el tipo de los valores contenidos en el vector.\n",
    "print(b)"
   ]
  },
  {
   "cell_type": "code",
   "execution_count": 3,
   "metadata": {},
   "outputs": [
    {
     "name": "stdout",
     "output_type": "stream",
     "text": [
      "[[0. 0. 0. 0. 0.]\n",
      " [0. 0. 0. 0. 0.]\n",
      " [0. 0. 0. 0. 0.]\n",
      " [0. 0. 0. 0. 0.]]\n"
     ]
    }
   ],
   "source": [
    "c = np.zeros([4,5]) # El método zeros ayuada a inicializar los valores del vector en 0\n",
    "print(c)"
   ]
  },
  {
   "cell_type": "code",
   "execution_count": 7,
   "metadata": {},
   "outputs": [
    {
     "name": "stdout",
     "output_type": "stream",
     "text": [
      "[[0.+0.j 0.+0.j]\n",
      " [0.+0.j 0.+0.j]]\n"
     ]
    }
   ],
   "source": [
    " d =np.zeros_like(b) # zeros_like es un método para copiar tipos y dimensiones\n",
    "print(d)"
   ]
  },
  {
   "cell_type": "code",
   "execution_count": 13,
   "metadata": {},
   "outputs": [
    {
     "name": "stdout",
     "output_type": "stream",
     "text": [
      "[[0. 0. 0.]\n",
      " [0. 0. 0.]]\n",
      "[[1. 0. 0. 0. 0. 0.]\n",
      " [0. 1. 0. 0. 0. 0.]\n",
      " [0. 0. 1. 0. 0. 0.]\n",
      " [0. 0. 0. 1. 0. 0.]\n",
      " [0. 0. 0. 0. 1. 0.]\n",
      " [0. 0. 0. 0. 0. 1.]]\n"
     ]
    }
   ],
   "source": [
    "e=np.empty((2,3)) # empty() muestra los valores que existian en memoria\n",
    "print(e)\n",
    "f =np.eye(6) # El método eye() devuelve una diagonal de 1 y los demás valores en cero\n",
    "print(f)"
   ]
  },
  {
   "cell_type": "code",
   "execution_count": 14,
   "metadata": {},
   "outputs": [
    {
     "name": "stdout",
     "output_type": "stream",
     "text": [
      "[[0 0 0 0 0 0 0]\n",
      " [0 1 0 0 0 0 0]\n",
      " [0 0 2 0 0 0 0]\n",
      " [0 0 0 3 0 0 0]\n",
      " [0 0 0 0 4 0 0]\n",
      " [0 0 0 0 0 5 0]\n",
      " [0 0 0 0 0 0 6]]\n"
     ]
    }
   ],
   "source": [
    "g=np.diag(range(7)) # diag es un método que te devuelve los valores del range en diagonal y los demas valores quedan en 0\n",
    "print(g)"
   ]
  },
  {
   "cell_type": "code",
   "execution_count": 17,
   "metadata": {},
   "outputs": [
    {
     "name": "stdout",
     "output_type": "stream",
     "text": [
      "[0 1 2 3 4 5]\n"
     ]
    }
   ],
   "source": [
    "h=np.arange(6) #arange recorre el vector con el valor dado secuencias\n",
    "print(h)"
   ]
  },
  {
   "cell_type": "code",
   "execution_count": 22,
   "metadata": {},
   "outputs": [
    {
     "data": {
      "text/plain": [
       "array([[4, 6, 4, 6, 4, 6],\n",
       "       [8, 8, 8, 8, 8, 8],\n",
       "       [4, 6, 4, 6, 4, 6],\n",
       "       [8, 8, 8, 8, 8, 8]])"
      ]
     },
     "execution_count": 22,
     "metadata": {},
     "output_type": "execute_result"
    }
   ],
   "source": [
    "np.tile(np.array([[4,6],[8,8]]),(2,3))"
   ]
  },
  {
   "cell_type": "code",
   "execution_count": 23,
   "metadata": {},
   "outputs": [
    {
     "name": "stdout",
     "output_type": "stream",
     "text": [
      "[[ 0  1  2  3  4]\n",
      " [10 11 12 13 14]\n",
      " [20 21 22 23 24]\n",
      " [30 31 32 33 34]\n",
      " [40 41 42 43 44]\n",
      " [50 51 52 53 54]\n",
      " [60 61 62 63 64]]\n"
     ]
    }
   ],
   "source": [
    "# Támbien es posible recurrir a generadores como este:\n",
    "vector1=np.array([[10*j+i for i in range(5)] for j in range(7)])\n",
    "print(vector1)"
   ]
  },
  {
   "cell_type": "code",
   "execution_count": 4,
   "metadata": {},
   "outputs": [
    {
     "name": "stdout",
     "output_type": "stream",
     "text": [
      "[ 0.    3.75  7.5  11.25 15.  ]\n",
      "[[ 0.  ]\n",
      " [ 3.75]\n",
      " [ 7.5 ]\n",
      " [11.25]\n",
      " [15.  ]]\n"
     ]
    }
   ],
   "source": [
    "import numpy as np\n",
    "h = np.linspace(0,15,5) # El método linspace nos permite poner espaciados en el vector\n",
    "print(h)\n",
    "print(h[:, np.newaxis]) # El método newaxis nos ayuda a convertir un vector fila en columna"
   ]
  },
  {
   "cell_type": "code",
   "execution_count": 3,
   "metadata": {},
   "outputs": [
    {
     "name": "stdout",
     "output_type": "stream",
     "text": [
      "[[0 0 0 0]\n",
      " [1 1 1 1]\n",
      " [2 2 2 2]\n",
      " [3 3 3 3]]\n",
      "----\n",
      "[[1 2 3 4]\n",
      " [1 2 3 4]\n",
      " [1 2 3 4]\n",
      " [1 2 3 4]]\n"
     ]
    }
   ],
   "source": [
    "import numpy as np\n",
    "x, y = np.mgrid[0:4,1:5] #La función mgrid() el usuario determina completamente las líneas de cuadrícula horizontales y verticales\n",
    "print(x)\n",
    "print(\"----\")\n",
    "print(y)"
   ]
  },
  {
   "cell_type": "code",
   "execution_count": 9,
   "metadata": {},
   "outputs": [
    {
     "name": "stdout",
     "output_type": "stream",
     "text": [
      "[[0.         0.         0.         0.         0.         0.        ]\n",
      " [0.         0.         0.         0.         0.         0.        ]\n",
      " [0.         0.98291935 0.         0.         0.         0.        ]\n",
      " [0.         0.         0.         0.95328571 0.         0.        ]\n",
      " [0.         0.         0.         0.         0.         0.9955764 ]]\n",
      "  (2, 1)\t0.9829193522299748\n",
      "  (3, 3)\t0.9532857140569865\n",
      "  (4, 5)\t0.9955764044303157\n",
      "-------\n",
      "[[0.         0.         0.         0.         0.         0.        ]\n",
      " [0.         0.         0.         0.         0.         0.        ]\n",
      " [0.         0.98291935 0.         0.         0.         0.        ]\n",
      " [0.         0.         0.         0.95328571 0.         0.        ]\n",
      " [0.         0.         0.         0.         0.         0.9955764 ]]\n"
     ]
    }
   ],
   "source": [
    "import numpy as np\n",
    "from scipy import sparse \n",
    "x =np.random.random((5,6)) # Devuelve un número aleatorio entre 0.0 y 1.0:\n",
    "x[x<0.85]=0\n",
    "print(x)\n",
    "x_csr = sparse.csr_matrix(x)\n",
    "print(x_csr)\n",
    "print(\"-------\")\n",
    "print(x_csr.toarray())"
   ]
  },
  {
   "cell_type": "code",
   "execution_count": 24,
   "metadata": {},
   "outputs": [
    {
     "data": {
      "text/plain": [
       "array([[0.51729788, 0.9469626 , 0.76545976],\n",
       "       [0.28239584, 0.22104536, 0.68622209],\n",
       "       [0.1671392 , 0.39244247, 0.61805235]])"
      ]
     },
     "execution_count": 24,
     "metadata": {},
     "output_type": "execute_result"
    }
   ],
   "source": [
    "import numpy as np\n",
    "np.random.seed(23) # método se usa para inicializar el generador de números aleatorios.\n",
    "np.random.rand(3,3)"
   ]
  },
  {
   "cell_type": "code",
   "execution_count": 26,
   "metadata": {},
   "outputs": [
    {
     "data": {
      "text/plain": [
       "array([[ 2.22599652,  1.20689203,  0.67310693],\n",
       "       [ 1.18175352, -1.28335478,  0.2301713 ],\n",
       "       [ 0.03779385, -1.61931338, -0.40506414]])"
      ]
     },
     "execution_count": 26,
     "metadata": {},
     "output_type": "execute_result"
    }
   ],
   "source": [
    "import numpy as np\n",
    "np.random.randn(3,3)"
   ]
  },
  {
   "cell_type": "code",
   "execution_count": 27,
   "metadata": {},
   "outputs": [
    {
     "name": "stdout",
     "output_type": "stream",
     "text": [
      "[1 2 4]\n"
     ]
    }
   ],
   "source": [
    "import numpy as np\n",
    "a = np.array([1.2,2.3,4.5])\n",
    "b = a.astype(int) # El método astype() nos permite redondear el número\n",
    "print(b)"
   ]
  },
  {
   "cell_type": "code",
   "execution_count": 30,
   "metadata": {},
   "outputs": [
    {
     "name": "stdout",
     "output_type": "stream",
     "text": [
      "[2. 3. 6. 3.]\n",
      "----------\n",
      "[2 3 6 3]\n"
     ]
    }
   ],
   "source": [
    "import numpy as np\n",
    "b = np.array([2.3,2.6,5.7,3.4])\n",
    "c = np.around(b) # Esta función matemática ayuda al usuario a redondear de manera uniforme los elementos de la matriz al número dado de decimales.\n",
    "print(c)\n",
    "d = np.around(b).astype(int) # Nos devuelve un número entero\n",
    "print(\"----------\")\n",
    "print(d)"
   ]
  },
  {
   "cell_type": "code",
   "execution_count": 34,
   "metadata": {},
   "outputs": [
    {
     "name": "stdout",
     "output_type": "stream",
     "text": [
      "[2.76 3.12 3.5  4.16]\n",
      "[3.5 3.7 3.9 4.2]\n"
     ]
    }
   ],
   "source": [
    " from numpy import array\n",
    "a = array([1.2,1.3,1.4,1.6])\n",
    "b = array([2.3,2.4,2.5,2.6])\n",
    "c = a*b # Multiplicamos los vectores con sus mismos valores\n",
    "print(c)\n",
    "d = a+b # Sumamos los vectores que contengan los mismos valores \n",
    "print(d)"
   ]
  },
  {
   "cell_type": "code",
   "execution_count": 13,
   "metadata": {},
   "outputs": [
    {
     "name": "stdout",
     "output_type": "stream",
     "text": [
      "[[3.5 3.6 3.9 4.1]\n",
      " [3.8 4.7 7.1 8.3]]\n",
      "-----------------\n",
      "2.3\n",
      "-----------------\n",
      "5.6\n",
      "-----------------\n",
      "[2.3 2.4 2.6 2.7]\n",
      "-----------------\n",
      "2.5\n",
      "-----------------\n",
      "[ 1.2  2.4  3.7  5.1  6.6  8.9 13.4 19. ]\n"
     ]
    }
   ],
   "source": [
    " from numpy import array \n",
    "o = array([[1.2,1.2,1.3,1.4],\n",
    "           [1.5,2.3,4.5,5.6]])\n",
    "p= array([2.3,2.4,2.6,2.7])\n",
    "c = o+p\n",
    "print(c)\n",
    "g = p.min() # Para sacar el minimo de un vector\n",
    "k = o.max() # Para sacar el máximo de un vector\n",
    "m = p.mean() # Promedia los valores del vector\n",
    "s = o.cumsum()\n",
    "print(\"-----------------\")\n",
    "print(g)\n",
    "print(\"-----------------\")\n",
    "print(k)\n",
    "print(\"-----------------\")\n",
    "print(p.T) # Sirve para obtener la transpuesta\n",
    "print(\"-----------------\")\n",
    "print(m)\n",
    "print(\"-----------------\")\n",
    "print(s)"
   ]
  },
  {
   "cell_type": "code",
   "execution_count": 15,
   "metadata": {},
   "outputs": [
    {
     "name": "stdout",
     "output_type": "stream",
     "text": [
      "[11.5 12.  13.  13.5]\n",
      "[[4.2 4.2 4.3 4.4]\n",
      " [4.5 5.3 7.5 8.6]]\n"
     ]
    }
   ],
   "source": [
    "print(p*5)\n",
    "print(o+3)"
   ]
  },
  {
   "cell_type": "code",
   "execution_count": 17,
   "metadata": {},
   "outputs": [
    {
     "name": "stdout",
     "output_type": "stream",
     "text": [
      "[5.29 5.76 6.76 7.29]\n",
      "-----------\n",
      "[[ 6.53 18.25]\n",
      " [18.25 59.15]]\n"
     ]
    }
   ],
   "source": [
    "print(p*p.T)\n",
    "print(\"-----------\")\n",
    "print(np.dot(o,o.T))"
   ]
  },
  {
   "cell_type": "code",
   "execution_count": 23,
   "metadata": {},
   "outputs": [
    {
     "data": {
      "text/plain": [
       "-18.0"
      ]
     },
     "execution_count": 23,
     "metadata": {},
     "output_type": "execute_result"
    }
   ],
   "source": [
    "# Para el cálculo del determinante y de la matriz inversa se utiliza la librería SciPy\n",
    "#Ejemplo\n",
    "from scipy import linalg\n",
    "elem = np.array([[2,4],\n",
    "                 [5,1]])\n",
    "linalg.det(elem) # Para calcular la determinante del vector"
   ]
  },
  {
   "cell_type": "code",
   "execution_count": 27,
   "metadata": {},
   "outputs": [
    {
     "name": "stdout",
     "output_type": "stream",
     "text": [
      "2\n",
      "[2 5]\n"
     ]
    }
   ],
   "source": [
    "from scipy import linalg\n",
    "elem = np.array([[2,4],\n",
    "                 [5,1]])\n",
    "linalg.inv(elem) # Para calculara la inversa del vector\n",
    "print(elem[0,0]) # Imprimimos el primer elemento de la primera fila y primera columna\n",
    "print(elem[:,0]) # Imprime la columna que se desea"
   ]
  },
  {
   "cell_type": "code",
   "execution_count": 29,
   "metadata": {},
   "outputs": [
    {
     "name": "stdout",
     "output_type": "stream",
     "text": [
      "[[2 4]\n",
      " [5 1]]\n"
     ]
    }
   ],
   "source": [
    " elem2 = np.array(elem, copy= True) # Nos permite copiar un vector con sus mismos valores\n",
    "print(elem2)"
   ]
  },
  {
   "cell_type": "code",
   "execution_count": 31,
   "metadata": {},
   "outputs": [
    {
     "name": "stdout",
     "output_type": "stream",
     "text": [
      "0    1.0\n",
      "1    2.0\n",
      "2    3.0\n",
      "3    NaN\n",
      "4    4.0\n",
      "5    5.0\n",
      "dtype: float64\n"
     ]
    }
   ],
   "source": [
    " # Librería Pandas\n",
    " # El DataFrame te permite almacenar y manipular datos tabulados en filas de observaciones y columnas de variables.\n",
    "import pandas as pd\n",
    "import numpy as np\n",
    "variable = pd.Series([1,2,3,np.nan,4,5])\n",
    "print(variable)"
   ]
  },
  {
   "cell_type": "code",
   "execution_count": 1,
   "metadata": {},
   "outputs": [
    {
     "name": "stdout",
     "output_type": "stream",
     "text": [
      "DatetimeIndex(['2020-07-01', '2020-07-02', '2020-07-03', '2020-07-04'], dtype='datetime64[ns]', freq='D')\n"
     ]
    }
   ],
   "source": [
    "import pandas as pd\n",
    "import numpy as np\n",
    "dates = pd.date_range('20200701',periods =4)\n",
    "print(dates)"
   ]
  },
  {
   "cell_type": "code",
   "execution_count": 4,
   "metadata": {},
   "outputs": [
    {
     "name": "stdout",
     "output_type": "stream",
     "text": [
      "                   A         B         C\n",
      "2020-07-01  0.875536  1.273121  1.889003\n",
      "2020-07-02 -2.116504 -0.773906 -2.597189\n",
      "2020-07-03  0.620152  1.810917  1.106116\n",
      "2020-07-04 -1.018629 -0.835203 -0.622112\n"
     ]
    }
   ],
   "source": [
    "import pandas as pd\n",
    "import numpy as np\n",
    "fecha = pd.DataFrame(np.random.randn(4,3), index = dates, columns = list('ABC'))\n",
    "print(fecha)"
   ]
  },
  {
   "cell_type": "code",
   "execution_count": 8,
   "metadata": {},
   "outputs": [
    {
     "name": "stdout",
     "output_type": "stream",
     "text": [
      "     A          B    C  D         E       F\n",
      "0  2.3 2020-07-01  1.0  3   manzana  Frutas\n",
      "1  2.3 2020-07-01  1.0  3      pera  Frutas\n",
      "2  2.3 2020-07-01  1.0  3       uva  Frutas\n",
      "3  2.3 2020-07-01  1.0  3  frutilla  Frutas\n",
      "---------\n",
      "---------\n",
      "---------\n"
     ]
    },
    {
     "data": {
      "text/html": [
       "<div>\n",
       "<style scoped>\n",
       "    .dataframe tbody tr th:only-of-type {\n",
       "        vertical-align: middle;\n",
       "    }\n",
       "\n",
       "    .dataframe tbody tr th {\n",
       "        vertical-align: top;\n",
       "    }\n",
       "\n",
       "    .dataframe thead th {\n",
       "        text-align: right;\n",
       "    }\n",
       "</style>\n",
       "<table border=\"1\" class=\"dataframe\">\n",
       "  <thead>\n",
       "    <tr style=\"text-align: right;\">\n",
       "      <th></th>\n",
       "      <th>A</th>\n",
       "      <th>C</th>\n",
       "      <th>D</th>\n",
       "    </tr>\n",
       "  </thead>\n",
       "  <tbody>\n",
       "    <tr>\n",
       "      <th>count</th>\n",
       "      <td>4.0</td>\n",
       "      <td>4.0</td>\n",
       "      <td>4.0</td>\n",
       "    </tr>\n",
       "    <tr>\n",
       "      <th>mean</th>\n",
       "      <td>2.3</td>\n",
       "      <td>1.0</td>\n",
       "      <td>3.0</td>\n",
       "    </tr>\n",
       "    <tr>\n",
       "      <th>std</th>\n",
       "      <td>0.0</td>\n",
       "      <td>0.0</td>\n",
       "      <td>0.0</td>\n",
       "    </tr>\n",
       "    <tr>\n",
       "      <th>min</th>\n",
       "      <td>2.3</td>\n",
       "      <td>1.0</td>\n",
       "      <td>3.0</td>\n",
       "    </tr>\n",
       "    <tr>\n",
       "      <th>25%</th>\n",
       "      <td>2.3</td>\n",
       "      <td>1.0</td>\n",
       "      <td>3.0</td>\n",
       "    </tr>\n",
       "    <tr>\n",
       "      <th>50%</th>\n",
       "      <td>2.3</td>\n",
       "      <td>1.0</td>\n",
       "      <td>3.0</td>\n",
       "    </tr>\n",
       "    <tr>\n",
       "      <th>75%</th>\n",
       "      <td>2.3</td>\n",
       "      <td>1.0</td>\n",
       "      <td>3.0</td>\n",
       "    </tr>\n",
       "    <tr>\n",
       "      <th>max</th>\n",
       "      <td>2.3</td>\n",
       "      <td>1.0</td>\n",
       "      <td>3.0</td>\n",
       "    </tr>\n",
       "  </tbody>\n",
       "</table>\n",
       "</div>"
      ],
      "text/plain": [
       "         A    C    D\n",
       "count  4.0  4.0  4.0\n",
       "mean   2.3  1.0  3.0\n",
       "std    0.0  0.0  0.0\n",
       "min    2.3  1.0  3.0\n",
       "25%    2.3  1.0  3.0\n",
       "50%    2.3  1.0  3.0\n",
       "75%    2.3  1.0  3.0\n",
       "max    2.3  1.0  3.0"
      ]
     },
     "execution_count": 8,
     "metadata": {},
     "output_type": "execute_result"
    }
   ],
   "source": [
    "import pandas as pd\n",
    "import numpy as np\n",
    "datos2 = pd.DataFrame({\n",
    "    'A':2.3,\n",
    "    'B':pd.Timestamp('20200701'),\n",
    "    'C':pd.Series(1,index=list(range(4)),dtype='float32'),\n",
    "    'D':np.array([3]*4,dtype='int32'),\n",
    "    'E':pd.Categorical([\"manzana\",\"pera\",\"uva\",\"frutilla\"]),\n",
    "    'F':'Frutas'\n",
    "})\n",
    "print(datos2)\n",
    "print(\"---------\")\n",
    "datos2.index\n",
    "print(\"---------\")\n",
    "datos2.columns\n",
    "print(\"---------\")\n",
    "datos2.values\n",
    "datos2.describe()"
   ]
  },
  {
   "cell_type": "code",
   "execution_count": 9,
   "metadata": {},
   "outputs": [
    {
     "data": {
      "text/html": [
       "<div>\n",
       "<style scoped>\n",
       "    .dataframe tbody tr th:only-of-type {\n",
       "        vertical-align: middle;\n",
       "    }\n",
       "\n",
       "    .dataframe tbody tr th {\n",
       "        vertical-align: top;\n",
       "    }\n",
       "\n",
       "    .dataframe thead th {\n",
       "        text-align: right;\n",
       "    }\n",
       "</style>\n",
       "<table border=\"1\" class=\"dataframe\">\n",
       "  <thead>\n",
       "    <tr style=\"text-align: right;\">\n",
       "      <th></th>\n",
       "      <th>0</th>\n",
       "      <th>1</th>\n",
       "      <th>2</th>\n",
       "      <th>3</th>\n",
       "    </tr>\n",
       "  </thead>\n",
       "  <tbody>\n",
       "    <tr>\n",
       "      <th>A</th>\n",
       "      <td>2.3</td>\n",
       "      <td>2.3</td>\n",
       "      <td>2.3</td>\n",
       "      <td>2.3</td>\n",
       "    </tr>\n",
       "    <tr>\n",
       "      <th>B</th>\n",
       "      <td>2020-07-01 00:00:00</td>\n",
       "      <td>2020-07-01 00:00:00</td>\n",
       "      <td>2020-07-01 00:00:00</td>\n",
       "      <td>2020-07-01 00:00:00</td>\n",
       "    </tr>\n",
       "    <tr>\n",
       "      <th>C</th>\n",
       "      <td>1</td>\n",
       "      <td>1</td>\n",
       "      <td>1</td>\n",
       "      <td>1</td>\n",
       "    </tr>\n",
       "    <tr>\n",
       "      <th>D</th>\n",
       "      <td>3</td>\n",
       "      <td>3</td>\n",
       "      <td>3</td>\n",
       "      <td>3</td>\n",
       "    </tr>\n",
       "    <tr>\n",
       "      <th>E</th>\n",
       "      <td>manzana</td>\n",
       "      <td>pera</td>\n",
       "      <td>uva</td>\n",
       "      <td>frutilla</td>\n",
       "    </tr>\n",
       "    <tr>\n",
       "      <th>F</th>\n",
       "      <td>Frutas</td>\n",
       "      <td>Frutas</td>\n",
       "      <td>Frutas</td>\n",
       "      <td>Frutas</td>\n",
       "    </tr>\n",
       "  </tbody>\n",
       "</table>\n",
       "</div>"
      ],
      "text/plain": [
       "                     0                    1                    2  \\\n",
       "A                  2.3                  2.3                  2.3   \n",
       "B  2020-07-01 00:00:00  2020-07-01 00:00:00  2020-07-01 00:00:00   \n",
       "C                    1                    1                    1   \n",
       "D                    3                    3                    3   \n",
       "E              manzana                 pera                  uva   \n",
       "F               Frutas               Frutas               Frutas   \n",
       "\n",
       "                     3  \n",
       "A                  2.3  \n",
       "B  2020-07-01 00:00:00  \n",
       "C                    1  \n",
       "D                    3  \n",
       "E             frutilla  \n",
       "F               Frutas  "
      ]
     },
     "execution_count": 9,
     "metadata": {},
     "output_type": "execute_result"
    }
   ],
   "source": [
    "import pandas as pd\n",
    "import numpy as np\n",
    "datos2.T # Transpuesta de un vector"
   ]
  },
  {
   "cell_type": "code",
   "execution_count": 11,
   "metadata": {},
   "outputs": [
    {
     "data": {
      "text/html": [
       "<div>\n",
       "<style scoped>\n",
       "    .dataframe tbody tr th:only-of-type {\n",
       "        vertical-align: middle;\n",
       "    }\n",
       "\n",
       "    .dataframe tbody tr th {\n",
       "        vertical-align: top;\n",
       "    }\n",
       "\n",
       "    .dataframe thead th {\n",
       "        text-align: right;\n",
       "    }\n",
       "</style>\n",
       "<table border=\"1\" class=\"dataframe\">\n",
       "  <thead>\n",
       "    <tr style=\"text-align: right;\">\n",
       "      <th></th>\n",
       "      <th>F</th>\n",
       "      <th>E</th>\n",
       "      <th>D</th>\n",
       "      <th>C</th>\n",
       "      <th>B</th>\n",
       "      <th>A</th>\n",
       "    </tr>\n",
       "  </thead>\n",
       "  <tbody>\n",
       "    <tr>\n",
       "      <th>0</th>\n",
       "      <td>Frutas</td>\n",
       "      <td>manzana</td>\n",
       "      <td>3</td>\n",
       "      <td>1.0</td>\n",
       "      <td>2020-07-01</td>\n",
       "      <td>2.3</td>\n",
       "    </tr>\n",
       "    <tr>\n",
       "      <th>1</th>\n",
       "      <td>Frutas</td>\n",
       "      <td>pera</td>\n",
       "      <td>3</td>\n",
       "      <td>1.0</td>\n",
       "      <td>2020-07-01</td>\n",
       "      <td>2.3</td>\n",
       "    </tr>\n",
       "    <tr>\n",
       "      <th>2</th>\n",
       "      <td>Frutas</td>\n",
       "      <td>uva</td>\n",
       "      <td>3</td>\n",
       "      <td>1.0</td>\n",
       "      <td>2020-07-01</td>\n",
       "      <td>2.3</td>\n",
       "    </tr>\n",
       "    <tr>\n",
       "      <th>3</th>\n",
       "      <td>Frutas</td>\n",
       "      <td>frutilla</td>\n",
       "      <td>3</td>\n",
       "      <td>1.0</td>\n",
       "      <td>2020-07-01</td>\n",
       "      <td>2.3</td>\n",
       "    </tr>\n",
       "  </tbody>\n",
       "</table>\n",
       "</div>"
      ],
      "text/plain": [
       "        F         E  D    C          B    A\n",
       "0  Frutas   manzana  3  1.0 2020-07-01  2.3\n",
       "1  Frutas      pera  3  1.0 2020-07-01  2.3\n",
       "2  Frutas       uva  3  1.0 2020-07-01  2.3\n",
       "3  Frutas  frutilla  3  1.0 2020-07-01  2.3"
      ]
     },
     "execution_count": 11,
     "metadata": {},
     "output_type": "execute_result"
    }
   ],
   "source": [
    "import pandas as pd\n",
    "import numpy as np\n",
    "datos2.sort_index(axis = 1, ascending = False) # Ordenar los valores de un vector"
   ]
  },
  {
   "cell_type": "code",
   "execution_count": 12,
   "metadata": {},
   "outputs": [
    {
     "data": {
      "text/html": [
       "<div>\n",
       "<style scoped>\n",
       "    .dataframe tbody tr th:only-of-type {\n",
       "        vertical-align: middle;\n",
       "    }\n",
       "\n",
       "    .dataframe tbody tr th {\n",
       "        vertical-align: top;\n",
       "    }\n",
       "\n",
       "    .dataframe thead th {\n",
       "        text-align: right;\n",
       "    }\n",
       "</style>\n",
       "<table border=\"1\" class=\"dataframe\">\n",
       "  <thead>\n",
       "    <tr style=\"text-align: right;\">\n",
       "      <th></th>\n",
       "      <th>A</th>\n",
       "      <th>B</th>\n",
       "      <th>C</th>\n",
       "      <th>D</th>\n",
       "      <th>E</th>\n",
       "      <th>F</th>\n",
       "    </tr>\n",
       "  </thead>\n",
       "  <tbody>\n",
       "    <tr>\n",
       "      <th>0</th>\n",
       "      <td>2.3</td>\n",
       "      <td>2020-07-01</td>\n",
       "      <td>1.0</td>\n",
       "      <td>3</td>\n",
       "      <td>manzana</td>\n",
       "      <td>Frutas</td>\n",
       "    </tr>\n",
       "    <tr>\n",
       "      <th>1</th>\n",
       "      <td>2.3</td>\n",
       "      <td>2020-07-01</td>\n",
       "      <td>1.0</td>\n",
       "      <td>3</td>\n",
       "      <td>pera</td>\n",
       "      <td>Frutas</td>\n",
       "    </tr>\n",
       "    <tr>\n",
       "      <th>2</th>\n",
       "      <td>2.3</td>\n",
       "      <td>2020-07-01</td>\n",
       "      <td>1.0</td>\n",
       "      <td>3</td>\n",
       "      <td>uva</td>\n",
       "      <td>Frutas</td>\n",
       "    </tr>\n",
       "    <tr>\n",
       "      <th>3</th>\n",
       "      <td>2.3</td>\n",
       "      <td>2020-07-01</td>\n",
       "      <td>1.0</td>\n",
       "      <td>3</td>\n",
       "      <td>frutilla</td>\n",
       "      <td>Frutas</td>\n",
       "    </tr>\n",
       "  </tbody>\n",
       "</table>\n",
       "</div>"
      ],
      "text/plain": [
       "     A          B    C  D         E       F\n",
       "0  2.3 2020-07-01  1.0  3   manzana  Frutas\n",
       "1  2.3 2020-07-01  1.0  3      pera  Frutas\n",
       "2  2.3 2020-07-01  1.0  3       uva  Frutas\n",
       "3  2.3 2020-07-01  1.0  3  frutilla  Frutas"
      ]
     },
     "execution_count": 12,
     "metadata": {},
     "output_type": "execute_result"
    }
   ],
   "source": [
    "import pandas as pd\n",
    "import numpy as np\n",
    "datos2.head()"
   ]
  },
  {
   "cell_type": "code",
   "execution_count": 13,
   "metadata": {},
   "outputs": [
    {
     "data": {
      "text/html": [
       "<div>\n",
       "<style scoped>\n",
       "    .dataframe tbody tr th:only-of-type {\n",
       "        vertical-align: middle;\n",
       "    }\n",
       "\n",
       "    .dataframe tbody tr th {\n",
       "        vertical-align: top;\n",
       "    }\n",
       "\n",
       "    .dataframe thead th {\n",
       "        text-align: right;\n",
       "    }\n",
       "</style>\n",
       "<table border=\"1\" class=\"dataframe\">\n",
       "  <thead>\n",
       "    <tr style=\"text-align: right;\">\n",
       "      <th></th>\n",
       "      <th>A</th>\n",
       "      <th>B</th>\n",
       "      <th>C</th>\n",
       "      <th>D</th>\n",
       "      <th>E</th>\n",
       "      <th>F</th>\n",
       "    </tr>\n",
       "  </thead>\n",
       "  <tbody>\n",
       "    <tr>\n",
       "      <th>1</th>\n",
       "      <td>2.3</td>\n",
       "      <td>2020-07-01</td>\n",
       "      <td>1.0</td>\n",
       "      <td>3</td>\n",
       "      <td>pera</td>\n",
       "      <td>Frutas</td>\n",
       "    </tr>\n",
       "    <tr>\n",
       "      <th>2</th>\n",
       "      <td>2.3</td>\n",
       "      <td>2020-07-01</td>\n",
       "      <td>1.0</td>\n",
       "      <td>3</td>\n",
       "      <td>uva</td>\n",
       "      <td>Frutas</td>\n",
       "    </tr>\n",
       "    <tr>\n",
       "      <th>3</th>\n",
       "      <td>2.3</td>\n",
       "      <td>2020-07-01</td>\n",
       "      <td>1.0</td>\n",
       "      <td>3</td>\n",
       "      <td>frutilla</td>\n",
       "      <td>Frutas</td>\n",
       "    </tr>\n",
       "  </tbody>\n",
       "</table>\n",
       "</div>"
      ],
      "text/plain": [
       "     A          B    C  D         E       F\n",
       "1  2.3 2020-07-01  1.0  3      pera  Frutas\n",
       "2  2.3 2020-07-01  1.0  3       uva  Frutas\n",
       "3  2.3 2020-07-01  1.0  3  frutilla  Frutas"
      ]
     },
     "execution_count": 13,
     "metadata": {},
     "output_type": "execute_result"
    }
   ],
   "source": [
    "import pandas as pd\n",
    "import numpy as np\n",
    "datos2.tail(3)"
   ]
  },
  {
   "cell_type": "code",
   "execution_count": 14,
   "metadata": {},
   "outputs": [
    {
     "data": {
      "text/plain": [
       "0     manzana\n",
       "1        pera\n",
       "2         uva\n",
       "3    frutilla\n",
       "Name: E, dtype: category\n",
       "Categories (4, object): [frutilla, manzana, pera, uva]"
      ]
     },
     "execution_count": 14,
     "metadata": {},
     "output_type": "execute_result"
    }
   ],
   "source": [
    "datos2['E'] # Acceder a los datos de un vector"
   ]
  },
  {
   "cell_type": "code",
   "execution_count": 16,
   "metadata": {},
   "outputs": [
    {
     "data": {
      "text/html": [
       "<div>\n",
       "<style scoped>\n",
       "    .dataframe tbody tr th:only-of-type {\n",
       "        vertical-align: middle;\n",
       "    }\n",
       "\n",
       "    .dataframe tbody tr th {\n",
       "        vertical-align: top;\n",
       "    }\n",
       "\n",
       "    .dataframe thead th {\n",
       "        text-align: right;\n",
       "    }\n",
       "</style>\n",
       "<table border=\"1\" class=\"dataframe\">\n",
       "  <thead>\n",
       "    <tr style=\"text-align: right;\">\n",
       "      <th></th>\n",
       "      <th>A</th>\n",
       "      <th>B</th>\n",
       "      <th>C</th>\n",
       "      <th>D</th>\n",
       "      <th>E</th>\n",
       "      <th>F</th>\n",
       "    </tr>\n",
       "  </thead>\n",
       "  <tbody>\n",
       "    <tr>\n",
       "      <th>0</th>\n",
       "      <td>2.3</td>\n",
       "      <td>2020-07-01</td>\n",
       "      <td>1.0</td>\n",
       "      <td>3</td>\n",
       "      <td>manzana</td>\n",
       "      <td>Frutas</td>\n",
       "    </tr>\n",
       "    <tr>\n",
       "      <th>1</th>\n",
       "      <td>2.3</td>\n",
       "      <td>2020-07-01</td>\n",
       "      <td>1.0</td>\n",
       "      <td>3</td>\n",
       "      <td>pera</td>\n",
       "      <td>Frutas</td>\n",
       "    </tr>\n",
       "  </tbody>\n",
       "</table>\n",
       "</div>"
      ],
      "text/plain": [
       "     A          B    C  D        E       F\n",
       "0  2.3 2020-07-01  1.0  3  manzana  Frutas\n",
       "1  2.3 2020-07-01  1.0  3     pera  Frutas"
      ]
     },
     "execution_count": 16,
     "metadata": {},
     "output_type": "execute_result"
    }
   ],
   "source": [
    "datos2[0:2] # Te devuelve el numero de de filas desde un punto a otro punto "
   ]
  },
  {
   "cell_type": "code",
   "execution_count": 19,
   "metadata": {},
   "outputs": [
    {
     "data": {
      "text/html": [
       "<div>\n",
       "<style scoped>\n",
       "    .dataframe tbody tr th:only-of-type {\n",
       "        vertical-align: middle;\n",
       "    }\n",
       "\n",
       "    .dataframe tbody tr th {\n",
       "        vertical-align: top;\n",
       "    }\n",
       "\n",
       "    .dataframe thead th {\n",
       "        text-align: right;\n",
       "    }\n",
       "</style>\n",
       "<table border=\"1\" class=\"dataframe\">\n",
       "  <thead>\n",
       "    <tr style=\"text-align: right;\">\n",
       "      <th></th>\n",
       "      <th>A</th>\n",
       "      <th>B</th>\n",
       "    </tr>\n",
       "  </thead>\n",
       "  <tbody>\n",
       "    <tr>\n",
       "      <th>0</th>\n",
       "      <td>2.3</td>\n",
       "      <td>2020-07-01</td>\n",
       "    </tr>\n",
       "    <tr>\n",
       "      <th>1</th>\n",
       "      <td>2.3</td>\n",
       "      <td>2020-07-01</td>\n",
       "    </tr>\n",
       "    <tr>\n",
       "      <th>2</th>\n",
       "      <td>2.3</td>\n",
       "      <td>2020-07-01</td>\n",
       "    </tr>\n",
       "    <tr>\n",
       "      <th>3</th>\n",
       "      <td>2.3</td>\n",
       "      <td>2020-07-01</td>\n",
       "    </tr>\n",
       "  </tbody>\n",
       "</table>\n",
       "</div>"
      ],
      "text/plain": [
       "     A          B\n",
       "0  2.3 2020-07-01\n",
       "1  2.3 2020-07-01\n",
       "2  2.3 2020-07-01\n",
       "3  2.3 2020-07-01"
      ]
     },
     "execution_count": 19,
     "metadata": {},
     "output_type": "execute_result"
    }
   ],
   "source": [
    "datos2.loc[:,['A','B']] # Te permite elegir la columna que deseas que se vea o visualize"
   ]
  },
  {
   "cell_type": "code",
   "execution_count": 22,
   "metadata": {},
   "outputs": [
    {
     "data": {
      "text/html": [
       "<div>\n",
       "<style scoped>\n",
       "    .dataframe tbody tr th:only-of-type {\n",
       "        vertical-align: middle;\n",
       "    }\n",
       "\n",
       "    .dataframe tbody tr th {\n",
       "        vertical-align: top;\n",
       "    }\n",
       "\n",
       "    .dataframe thead th {\n",
       "        text-align: right;\n",
       "    }\n",
       "</style>\n",
       "<table border=\"1\" class=\"dataframe\">\n",
       "  <thead>\n",
       "    <tr style=\"text-align: right;\">\n",
       "      <th></th>\n",
       "      <th>A</th>\n",
       "      <th>B</th>\n",
       "      <th>C</th>\n",
       "      <th>D</th>\n",
       "      <th>E</th>\n",
       "      <th>F</th>\n",
       "    </tr>\n",
       "  </thead>\n",
       "  <tbody>\n",
       "    <tr>\n",
       "      <th>0</th>\n",
       "      <td>2.3</td>\n",
       "      <td>2020-07-01</td>\n",
       "      <td>1.0</td>\n",
       "      <td>3</td>\n",
       "      <td>manzana</td>\n",
       "      <td>Frutas</td>\n",
       "    </tr>\n",
       "    <tr>\n",
       "      <th>1</th>\n",
       "      <td>2.3</td>\n",
       "      <td>2020-07-01</td>\n",
       "      <td>1.0</td>\n",
       "      <td>3</td>\n",
       "      <td>pera</td>\n",
       "      <td>Frutas</td>\n",
       "    </tr>\n",
       "    <tr>\n",
       "      <th>2</th>\n",
       "      <td>2.3</td>\n",
       "      <td>2020-07-01</td>\n",
       "      <td>1.0</td>\n",
       "      <td>3</td>\n",
       "      <td>uva</td>\n",
       "      <td>Frutas</td>\n",
       "    </tr>\n",
       "    <tr>\n",
       "      <th>3</th>\n",
       "      <td>2.3</td>\n",
       "      <td>2020-07-01</td>\n",
       "      <td>1.0</td>\n",
       "      <td>3</td>\n",
       "      <td>frutilla</td>\n",
       "      <td>Frutas</td>\n",
       "    </tr>\n",
       "  </tbody>\n",
       "</table>\n",
       "</div>"
      ],
      "text/plain": [
       "     A          B    C  D         E       F\n",
       "0  2.3 2020-07-01  1.0  3   manzana  Frutas\n",
       "1  2.3 2020-07-01  1.0  3      pera  Frutas\n",
       "2  2.3 2020-07-01  1.0  3       uva  Frutas\n",
       "3  2.3 2020-07-01  1.0  3  frutilla  Frutas"
      ]
     },
     "execution_count": 22,
     "metadata": {},
     "output_type": "execute_result"
    }
   ],
   "source": [
    "datos2[datos2.C > 0] #Podemos utilizar simbolos para obtener un resultado"
   ]
  },
  {
   "cell_type": "code",
   "execution_count": 25,
   "metadata": {},
   "outputs": [
    {
     "data": {
      "text/html": [
       "<div>\n",
       "<style scoped>\n",
       "    .dataframe tbody tr th:only-of-type {\n",
       "        vertical-align: middle;\n",
       "    }\n",
       "\n",
       "    .dataframe tbody tr th {\n",
       "        vertical-align: top;\n",
       "    }\n",
       "\n",
       "    .dataframe thead th {\n",
       "        text-align: right;\n",
       "    }\n",
       "</style>\n",
       "<table border=\"1\" class=\"dataframe\">\n",
       "  <thead>\n",
       "    <tr style=\"text-align: right;\">\n",
       "      <th></th>\n",
       "      <th>Nombres</th>\n",
       "      <th>Apellidos_x</th>\n",
       "      <th>Apellidos_y</th>\n",
       "    </tr>\n",
       "  </thead>\n",
       "  <tbody>\n",
       "    <tr>\n",
       "      <th>0</th>\n",
       "      <td>Roger</td>\n",
       "      <td>5</td>\n",
       "      <td>2</td>\n",
       "    </tr>\n",
       "    <tr>\n",
       "      <th>1</th>\n",
       "      <td>Elias</td>\n",
       "      <td>7</td>\n",
       "      <td>4</td>\n",
       "    </tr>\n",
       "  </tbody>\n",
       "</table>\n",
       "</div>"
      ],
      "text/plain": [
       "  Nombres  Apellidos_x  Apellidos_y\n",
       "0   Roger            5            2\n",
       "1   Elias            7            4"
      ]
     },
     "execution_count": 25,
     "metadata": {},
     "output_type": "execute_result"
    }
   ],
   "source": [
    "# Pandas nos proporciona la función join() que nos permiten cruzar dos DataFrames para este propósito.\n",
    "import pandas as pd\n",
    "import numpy as np\n",
    "\n",
    "a = pd.DataFrame({'Nombres': ['Roger', 'Elias'], 'Apellidos':[5,7]})\n",
    "b = pd.DataFrame({'Nombres': ['Roger', 'Elias'], 'Apellidos':[2,4]})\n",
    "pd.merge(a,b, on = 'Nombres') # Se puede unir los vectores cuando tienen la misma llave y el mismo valor"
   ]
  },
  {
   "cell_type": "code",
   "execution_count": 30,
   "metadata": {},
   "outputs": [
    {
     "name": "stdout",
     "output_type": "stream",
     "text": [
      "        A       B         C         D\n",
      "0     uno  tierra  1.856394 -0.157814\n",
      "1     dos    aire  0.982568  0.039165\n",
      "2    tres    agua  1.376643  0.541011\n",
      "3  cuatro   fuego -0.821444  0.279711\n",
      "4     uno  tierra -0.115951  0.873607\n",
      "5     dos    aire  0.305954  1.067541\n",
      "6    tres    agua -1.585447  0.644785\n",
      "7  cuatro   fuego -0.805825  1.526407\n"
     ]
    },
    {
     "data": {
      "text/html": [
       "<div>\n",
       "<style scoped>\n",
       "    .dataframe tbody tr th:only-of-type {\n",
       "        vertical-align: middle;\n",
       "    }\n",
       "\n",
       "    .dataframe tbody tr th {\n",
       "        vertical-align: top;\n",
       "    }\n",
       "\n",
       "    .dataframe thead th {\n",
       "        text-align: right;\n",
       "    }\n",
       "</style>\n",
       "<table border=\"1\" class=\"dataframe\">\n",
       "  <thead>\n",
       "    <tr style=\"text-align: right;\">\n",
       "      <th></th>\n",
       "      <th>C</th>\n",
       "      <th>D</th>\n",
       "    </tr>\n",
       "    <tr>\n",
       "      <th>B</th>\n",
       "      <th></th>\n",
       "      <th></th>\n",
       "    </tr>\n",
       "  </thead>\n",
       "  <tbody>\n",
       "    <tr>\n",
       "      <th>agua</th>\n",
       "      <td>-0.208804</td>\n",
       "      <td>1.185796</td>\n",
       "    </tr>\n",
       "    <tr>\n",
       "      <th>aire</th>\n",
       "      <td>1.288523</td>\n",
       "      <td>1.106707</td>\n",
       "    </tr>\n",
       "    <tr>\n",
       "      <th>fuego</th>\n",
       "      <td>-1.627269</td>\n",
       "      <td>1.806118</td>\n",
       "    </tr>\n",
       "    <tr>\n",
       "      <th>tierra</th>\n",
       "      <td>1.740443</td>\n",
       "      <td>0.715793</td>\n",
       "    </tr>\n",
       "  </tbody>\n",
       "</table>\n",
       "</div>"
      ],
      "text/plain": [
       "               C         D\n",
       "B                         \n",
       "agua   -0.208804  1.185796\n",
       "aire    1.288523  1.106707\n",
       "fuego  -1.627269  1.806118\n",
       "tierra  1.740443  0.715793"
      ]
     },
     "execution_count": 30,
     "metadata": {},
     "output_type": "execute_result"
    }
   ],
   "source": [
    "import numpy as np \n",
    "import pandas as pd\n",
    "\n",
    "datos2 = pd.DataFrame({\n",
    "    'A':['uno','dos','tres','cuatro','uno','dos','tres','cuatro'],\n",
    "    'B':['tierra','aire','agua','fuego','tierra','aire','agua','fuego'],\n",
    "    'C':np.random.randn(8),\n",
    "    'D':np.random.randn(8)})\n",
    "print(datos2)\n",
    "datos2.groupby('B').sum()"
   ]
  },
  {
   "cell_type": "code",
   "execution_count": 31,
   "metadata": {},
   "outputs": [
    {
     "data": {
      "text/html": [
       "<div>\n",
       "<style scoped>\n",
       "    .dataframe tbody tr th:only-of-type {\n",
       "        vertical-align: middle;\n",
       "    }\n",
       "\n",
       "    .dataframe tbody tr th {\n",
       "        vertical-align: top;\n",
       "    }\n",
       "\n",
       "    .dataframe thead th {\n",
       "        text-align: right;\n",
       "    }\n",
       "</style>\n",
       "<table border=\"1\" class=\"dataframe\">\n",
       "  <thead>\n",
       "    <tr style=\"text-align: right;\">\n",
       "      <th></th>\n",
       "      <th>C</th>\n",
       "      <th>D</th>\n",
       "    </tr>\n",
       "    <tr>\n",
       "      <th>B</th>\n",
       "      <th></th>\n",
       "      <th></th>\n",
       "    </tr>\n",
       "  </thead>\n",
       "  <tbody>\n",
       "    <tr>\n",
       "      <th>agua</th>\n",
       "      <td>-0.208804</td>\n",
       "      <td>1.185796</td>\n",
       "    </tr>\n",
       "    <tr>\n",
       "      <th>aire</th>\n",
       "      <td>1.288523</td>\n",
       "      <td>1.106707</td>\n",
       "    </tr>\n",
       "    <tr>\n",
       "      <th>fuego</th>\n",
       "      <td>-1.627269</td>\n",
       "      <td>1.806118</td>\n",
       "    </tr>\n",
       "    <tr>\n",
       "      <th>tierra</th>\n",
       "      <td>1.740443</td>\n",
       "      <td>0.715793</td>\n",
       "    </tr>\n",
       "  </tbody>\n",
       "</table>\n",
       "</div>"
      ],
      "text/plain": [
       "               C         D\n",
       "B                         \n",
       "agua   -0.208804  1.185796\n",
       "aire    1.288523  1.106707\n",
       "fuego  -1.627269  1.806118\n",
       "tierra  1.740443  0.715793"
      ]
     },
     "execution_count": 31,
     "metadata": {},
     "output_type": "execute_result"
    }
   ],
   "source": [
    "\n",
    "datos2.groupby('B').sum()"
   ]
  },
  {
   "cell_type": "code",
   "execution_count": null,
   "metadata": {},
   "outputs": [],
   "source": []
  }
 ],
 "metadata": {
  "kernelspec": {
   "display_name": "Python 3",
   "language": "python",
   "name": "python3"
  },
  "language_info": {
   "codemirror_mode": {
    "name": "ipython",
    "version": 3
   },
   "file_extension": ".py",
   "mimetype": "text/x-python",
   "name": "python",
   "nbconvert_exporter": "python",
   "pygments_lexer": "ipython3",
   "version": "3.7.6"
  }
 },
 "nbformat": 4,
 "nbformat_minor": 4
}
