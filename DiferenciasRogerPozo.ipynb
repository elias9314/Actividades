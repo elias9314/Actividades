{
 "cells": [
  {
   "cell_type": "code",
   "execution_count": 13,
   "metadata": {},
   "outputs": [
    {
     "name": "stdout",
     "output_type": "stream",
     "text": [
      "[1, 3, 4, 5, ['Andres', 'Josue', 'Yesy']]\n",
      "Josue\n",
      "[2, 4, {56}]\n",
      "[2, 4, {56}, ['números primos']]\n",
      "[2, 4, {56}, ['números primos'], 'vamos a morir']\n"
     ]
    }
   ],
   "source": [
    "# Diferencias entre listas y conjuntos\n",
    "# Lista\n",
    "#Es una estructura de datos y un tipo de dato en python con características especiales. Lo especial de las listas en Python\n",
    "#es que nos permiten almacenar cualquier tipo de valor como enteros, cadenas y hasta otras funciones.\n",
    "# A una lista se la interpreta por medio de corchetes[]\n",
    "a=[1,3,4,5,[\"Andres\",\"Josue\",\"Yesy\"]]\n",
    "print(a)\n",
    "print(a[4][1])\n",
    "#Una lista puede incluir objetos mutables como otros conjuntos\n",
    "a=[2,4,{56}]\n",
    "print(a)\n",
    "#para añadir un elemento a la lista utilizamos el método append o extend\n",
    "a.append([\"números primos\"])\n",
    "print(a)\n",
    "a.extend([\"vamos a morir\"])\n",
    "print(a)"
   ]
  },
  {
   "cell_type": "code",
   "execution_count": 23,
   "metadata": {},
   "outputs": [
    {
     "name": "stdout",
     "output_type": "stream",
     "text": [
      "{1, 2, 3, 4}\n",
      "{1, 2, 3, 4, 'Juan'}\n",
      "{2, 3, 5, 7}\n",
      "{1, 3, 4}\n",
      "colchón\n",
      "cobija\n",
      "coraje\n",
      "cocina\n"
     ]
    }
   ],
   "source": [
    "# Conjunto o Colección\n",
    "# Un conjunto es una colección no ordenada de objetos únicos. \n",
    "# A un conjunto o colección se la puede reconocer por que se la interpreta por medio de llaves{}\n",
    "a={1,2,3,4}\n",
    "print(a)\n",
    "# Un conjunto no puede incluir objetos mutables como listas, diccionarios, e incluso otros conjuntos.\n",
    "#b ={2,[5,6]}\n",
    "#print(b)\n",
    "# Para insertar otro dato al conjunto utilizamos el método add\n",
    "a.add(\"Juan\")\n",
    "print(a)\n",
    "#Un set puede ser convertido a una lista y viceversa. En este último caso, los elementos duplicados son unificados.\n",
    "a=set([2,3,5,7])\n",
    "print(a)\n",
    "b = set([3,4,1])\n",
    "print(b)\n",
    "# los conjunto tienen un método llamado pop(), que retorna valores aleatoreamente\n",
    "c=([\"cocina\",\"coraje\",\"cobija\",\"colchón\"])\n",
    "while c:\n",
    "    print(c.pop())"
   ]
  },
  {
   "cell_type": "code",
   "execution_count": null,
   "metadata": {},
   "outputs": [],
   "source": []
  },
  {
   "cell_type": "code",
   "execution_count": null,
   "metadata": {},
   "outputs": [],
   "source": []
  }
 ],
 "metadata": {
  "kernelspec": {
   "display_name": "Python 3",
   "language": "python",
   "name": "python3"
  },
  "language_info": {
   "codemirror_mode": {
    "name": "ipython",
    "version": 3
   },
   "file_extension": ".py",
   "mimetype": "text/x-python",
   "name": "python",
   "nbconvert_exporter": "python",
   "pygments_lexer": "ipython3",
   "version": "3.7.6"
  }
 },
 "nbformat": 4,
 "nbformat_minor": 4
}
