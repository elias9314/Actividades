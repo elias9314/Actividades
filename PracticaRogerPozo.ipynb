{
 "cells": [
  {
   "cell_type": "code",
   "execution_count": 1,
   "metadata": {},
   "outputs": [],
   "source": [
    "# Para poder realizar un comentario en python se utiliza el símbolo numeral #\n",
    "# esto es una prueba para ver si vale hacer comentarios\n"
   ]
  },
  {
   "cell_type": "code",
   "execution_count": 20,
   "metadata": {},
   "outputs": [
    {
     "data": {
      "text/plain": [
       "' Este es un comentario multilinea. La\\nsiguiente parte realiza una serie\\nde cosas muy chulas '"
      ]
     },
     "execution_count": 20,
     "metadata": {},
     "output_type": "execute_result"
    }
   ],
   "source": [
    "# Pra hacer un comentario de varias líneas se utiliza las comillas tres veces \n",
    "\"\"\" esto es un comentario\n",
    "probando a ver si vale \"\"\""
   ]
  },
  {
   "cell_type": "code",
   "execution_count": 12,
   "metadata": {},
   "outputs": [
    {
     "name": "stdout",
     "output_type": "stream",
     "text": [
      "probando números 2334\n",
      "cadena de texto Roger Pozo\n"
     ]
    }
   ],
   "source": [
    "# Constantes : vamos a probar a ver si funciona la variable constante\n",
    "print(\"probando números\" +\" \"+str(2334))\n",
    "print(\"cadena de texto\" +\" \"+\"Roger Pozo\")"
   ]
  },
  {
   "cell_type": "code",
   "execution_count": 25,
   "metadata": {},
   "outputs": [
    {
     "name": "stdout",
     "output_type": "stream",
     "text": [
      "vamos a ver el número:  5\n"
     ]
    }
   ],
   "source": [
    "#declarando variable tipo numérico\n",
    "variable = 5\n",
    "print(\"vamos a ver el número: \" +\" \"+str(variable))"
   ]
  },
  {
   "cell_type": "code",
   "execution_count": 19,
   "metadata": {},
   "outputs": [
    {
     "name": "stdout",
     "output_type": "stream",
     "text": [
      "Creando mi primer hola mundo\n"
     ]
    }
   ],
   "source": [
    "#declarando variable tipo texto\n",
    "variable_texto = \"hola mundo\"\n",
    "print(\"Creando mi primer\"+\" \"+ variable_texto)\n",
    "# Como se puede observar se utiliza el símbolo + para poder concatenar la variable \n",
    "# Dependiendo como se vaya a utilizar algunos símbolos pueden tener varios significados"
   ]
  },
  {
   "cell_type": "code",
   "execution_count": 23,
   "metadata": {},
   "outputs": [],
   "source": [
    "# Para poder saber si la variable es constante y para no poder declararla reiterativamente\n",
    "# la podemos declarar a la variable con mayúsculas por ejemplo\n",
    "VARIABLE_NUMERICO = 8"
   ]
  },
  {
   "cell_type": "code",
   "execution_count": 30,
   "metadata": {},
   "outputs": [
    {
     "name": "stdout",
     "output_type": "stream",
     "text": [
      "<class 'int'>\n",
      "<class 'str'>\n",
      "<class 'str'>\n"
     ]
    }
   ],
   "source": [
    "#Python nos permite también mediante la función Type visualizar el tipo de dato que se esta utilizando\n",
    "# Ejemplos:\n",
    "Numero = 34\n",
    "print(type(Numero))\n",
    "Texto = \"Quiero una dona\"\n",
    "print(type(Texto))\n",
    "Boolean = \"true\"\n",
    "print(type(Boolean))"
   ]
  },
  {
   "cell_type": "code",
   "execution_count": 35,
   "metadata": {},
   "outputs": [
    {
     "name": "stdout",
     "output_type": "stream",
     "text": [
      "r\n",
      "comer\n"
     ]
    }
   ],
   "source": [
    "# Tipo de datos complejos\n",
    "# Una de las cosas que podemos realizar con Python es acceder a elementos de una cadena dependiendo \n",
    "# la posición \n",
    "# Ejemplo:\n",
    "# Vamos a declara una variable de tipo texto\n",
    "Texto = \"Quiero comer una pizza\"\n",
    "# seguidamente la imprimiremos utilizando la funcion print() seguido del nombre de la variable[] y ubicando la posición\n",
    "# que se desea saber\n",
    "print(Texto[11])\n",
    "print(Texto[7:12]) # significa de que posición a que posición va a recorrer "
   ]
  },
  {
   "cell_type": "code",
   "execution_count": 57,
   "metadata": {},
   "outputs": [
    {
     "name": "stdout",
     "output_type": "stream",
     "text": [
      "{'ajo', 'uva', 'pera', 'limon'}\n",
      "<class 'set'>\n",
      "ajo\n",
      "ajo\n",
      "None\n",
      "{'uva', 'limon', 'pera', 'papaya'}\n",
      "None\n",
      "{'uva', 'limon', 'papaya'}\n"
     ]
    }
   ],
   "source": [
    "# Colecciones\n",
    "# Para las colecciones se declara la variable entrecerrada por llaves{} y sus valores encerrados en comillas simples o dobles\n",
    "# Ejemplo:\n",
    "cocina = {'ajo','pera','uva','limon'}\n",
    "print(cocina)\n",
    "print(type(cocina)) #nos indica que es una colección\n",
    "print(next(iter(cocina))) #devuelve el siguiente elemento del iterador\n",
    "print(cocina.pop()) # el método pop() devuelve un elemento de forma aleatoria\n",
    "print(cocina.add('papaya')) # añade otro elemento a la colección\n",
    "print(cocina)\n",
    "print(cocina.discard(\"pera\")) # elimina un elemento de la colección\n",
    "print(cocina)"
   ]
  },
  {
   "cell_type": "code",
   "execution_count": 1,
   "metadata": {},
   "outputs": [
    {
     "name": "stdout",
     "output_type": "stream",
     "text": [
      "['cuadrado', 'rectángulo', 'círculo']\n",
      "['cuadrado', 'rectángulo', 'círculo']\n",
      "['cuadrado', 'rectángulo', 'círculo', 'triángulo']\n"
     ]
    }
   ],
   "source": [
    "#Para las listas se declara la variable entrecerrada por corchetes[] y sus valores encerrados en comillas dobles o simples\n",
    "figuras_geometricas=[\"cuadrado\",\"rectángulo\",\"círculo\"]\n",
    "print(figuras_geometricas)\n",
    "generales = figuras_geometricas # se le puede asignar otro nombre a la variable principal\n",
    "print(generales)\n",
    "#condicionales\n",
    "\"círculo\" in generales # el in nos indica que el valor del lado izquierdo contenga también en el lado derecho\n",
    "figuras_geometricas.index(\"círculo\") # devuelve el índice del elemento indicado en la lista\n",
    "figuras_geometricas.insert(len(figuras_geometricas),\"triángulo\") #el método len() devuelve la longitud de una cadena\n",
    "\n",
    "print(figuras_geometricas)\n"
   ]
  },
  {
   "cell_type": "code",
   "execution_count": 3,
   "metadata": {},
   "outputs": [
    {
     "name": "stdout",
     "output_type": "stream",
     "text": [
      "[12, 3, 4, 6, 7]\n"
     ]
    },
    {
     "ename": "TypeError",
     "evalue": "'set' object does not support item assignment",
     "output_type": "error",
     "traceback": [
      "\u001b[1;31m---------------------------------------------------------------------------\u001b[0m",
      "\u001b[1;31mTypeError\u001b[0m                                 Traceback (most recent call last)",
      "\u001b[1;32m<ipython-input-3-b2c71700cb3a>\u001b[0m in \u001b[0;36m<module>\u001b[1;34m\u001b[0m\n\u001b[0;32m      6\u001b[0m \u001b[0mprint\u001b[0m\u001b[1;33m(\u001b[0m\u001b[0mvariable1\u001b[0m\u001b[1;33m)\u001b[0m\u001b[1;31m# se observa que mediante los corchetes se pudo modificar el elemento en la posición [0]\u001b[0m\u001b[1;33m\u001b[0m\u001b[1;33m\u001b[0m\u001b[0m\n\u001b[0;32m      7\u001b[0m \u001b[0mvariable2\u001b[0m\u001b[1;33m=\u001b[0m\u001b[1;33m{\u001b[0m\u001b[1;36m2\u001b[0m\u001b[1;33m,\u001b[0m\u001b[1;36m3\u001b[0m\u001b[1;33m,\u001b[0m\u001b[1;36m4\u001b[0m\u001b[1;33m,\u001b[0m\u001b[1;36m6\u001b[0m\u001b[1;33m,\u001b[0m\u001b[1;36m7\u001b[0m\u001b[1;33m}\u001b[0m\u001b[1;33m\u001b[0m\u001b[1;33m\u001b[0m\u001b[0m\n\u001b[1;32m----> 8\u001b[1;33m \u001b[0mvariable2\u001b[0m\u001b[1;33m[\u001b[0m\u001b[1;36m0\u001b[0m\u001b[1;33m]\u001b[0m\u001b[1;33m=\u001b[0m\u001b[1;36m15\u001b[0m\u001b[1;33m\u001b[0m\u001b[1;33m\u001b[0m\u001b[0m\n\u001b[0m\u001b[0;32m      9\u001b[0m \u001b[0mprint\u001b[0m\u001b[1;33m(\u001b[0m\u001b[0mvariable2\u001b[0m\u001b[1;33m)\u001b[0m\u001b[1;33m\u001b[0m\u001b[1;33m\u001b[0m\u001b[0m\n",
      "\u001b[1;31mTypeError\u001b[0m: 'set' object does not support item assignment"
     ]
    }
   ],
   "source": [
    "#Tuplas\n",
    "#Son secuencias igual que las cadenas pero no es posible modificar su contenido\n",
    "#Ejemplo:\n",
    "variable1=[2,3,4,6,7]\n",
    "variable1[0]=12\n",
    "print(variable1)# se observa que mediante los corchetes se pudo modificar el elemento en la posición [0]\n",
    "variable2={2,3,4,6,7}\n",
    "variable2[0]=15\n",
    "print(variable2) #se observa que no se puede modificar y nos salta un error "
   ]
  },
  {
   "cell_type": "code",
   "execution_count": null,
   "metadata": {},
   "outputs": [],
   "source": [
    "#Diccionario\n",
    "#Nos permite almacenar cualquier tipo de valor y nos permiten identificar al elemento mediante una clave\n",
    "#Ejemplo:\n",
    "variable_diccionario ={'nombre' : 'Roger', 'edad' : 27, 'cursos': ['diseño','electricidad']}\n",
    "print(variable_diccionario['edad']) #clave para poder accerder el elemento\n",
    "print(variable_diccionario['cursos'])\n",
    "# Para recorrer todo el diccionario\n",
    "for key in variable_diccionario:\n",
    "    print(key,\":\",variable_diccionario[key])"
   ]
  },
  {
   "cell_type": "code",
   "execution_count": 1,
   "metadata": {},
   "outputs": [
    {
     "name": "stdout",
     "output_type": "stream",
     "text": [
      "Bye\n",
      "Roger\n",
      "Roger\n",
      "Roger\n",
      "Roger\n",
      "Por favor digite un número: 1\n",
      "su número es menor al 3 por favor digite nuevamente\n",
      "Por favor digite un número4\n",
      "su número es 4\n"
     ]
    }
   ],
   "source": [
    "# Condiciones Bucles y Funciones\n",
    "# Condicionales\n",
    "# el operador módulo es el signo de tanto por ciento (%).\n",
    "variable = 15\n",
    "if ( variable % 2==0): # nos permite tener el residuo\n",
    "    print(\"hola\")\n",
    "else:\n",
    "    print(\"Bye\")\n",
    "    \n",
    "# For\n",
    "# Es una estructura de control que repite un bloque de instrucciones, este es un bucle determinado\n",
    "#Ejemplo\n",
    "\n",
    "for i in [\"hola\",\"hi\",\"bye\",\"nos vemos\"]:\n",
    "    print(\"Roger\")\n",
    "    \n",
    "#Bucle While\n",
    "# Es un aestructura de control que repite un bloque de instrucciones, este bucle es indeterminado\n",
    "\n",
    "variable = int(input(\"Por favor digite un número: \"))\n",
    "while(variable<3):\n",
    "    print(\"su número es menor al 3 por favor digite nuevamente\")\n",
    "    variable = int(input(\"Por favor digite un número\"))\n",
    "\n",
    "print(\"su número es \" + str(variable))\n"
   ]
  },
  {
   "cell_type": "code",
   "execution_count": 17,
   "metadata": {},
   "outputs": [
    {
     "name": "stdout",
     "output_type": "stream",
     "text": [
      "digite un numero6\n",
      "su número : 6 es par\n"
     ]
    }
   ],
   "source": [
    "# Creciación de una función para saber si un número es par o inpar\n",
    "# Recibe un parámetro de entrada para actuar en consecuencia\n",
    "#variable = int(input(\"Digíte un número: \"))\n",
    "def numero(variable=int(input(\"digite un numero\"))):\n",
    "    if(variable % 2==0):\n",
    "        print(\"su número :\" + \" \" + str(variable) +\" \" + \"es par\")\n",
    "    else:\n",
    "        print(\"su número :\" + \" \" + str(variable) +\" \" +\"es impar\")\n",
    "numero()"
   ]
  },
  {
   "cell_type": "code",
   "execution_count": 19,
   "metadata": {},
   "outputs": [
    {
     "name": "stdout",
     "output_type": "stream",
     "text": [
      "digite un numero3\n"
     ]
    },
    {
     "data": {
      "text/plain": [
       "(3, 5)"
      ]
     },
     "execution_count": 19,
     "metadata": {},
     "output_type": "execute_result"
    }
   ],
   "source": [
    "# Creación de una función si es número par multiplicamos por 2 y si es impar sumamos 2\n",
    "# Ejemplo:\n",
    "def numero(variable=int(input(\"digite un numero\"))):\n",
    "    if(variable % 2==0):\n",
    "        return(variable,variable*2)\n",
    "    else:\n",
    "        return(variable,variable +2)\n",
    "numero()\n"
   ]
  },
  {
   "cell_type": "code",
   "execution_count": 20,
   "metadata": {},
   "outputs": [
    {
     "name": "stdout",
     "output_type": "stream",
     "text": [
      "ponga el valor del lado uno: 3\n",
      "ponga el valor del lado dos: 4\n",
      "Esto es un rectángulo\n",
      "12.0\n"
     ]
    }
   ],
   "source": [
    "# Objetos en Python\n",
    "# Clase\n",
    "#  Es una plantilla o modelo para crear a partir de ella ciertos objetos\n",
    "# Ejemplo\n",
    "class Rectangulo:\n",
    "    def __init__(self,lado1=float(input(\"ponga el valor del lado uno: \")),lado2=float(input(\"ponga el valor del lado dos: \"))):\n",
    "            self.lado1=lado1\n",
    "            self.lado2=lado2\n",
    "    descripción =\"Esto es un rectángulo\"\n",
    "    autor =\"ROGER POZO\"\n",
    "    def area(self):\n",
    "        return self.lado1 * self.lado2\n",
    "    def perimetro(self):\n",
    "        return 2 * self.lado1 +2 * self.lado2\n",
    "    def descripcion2(self,text):\n",
    "        self.description= text\n",
    "    def nombreAutor(self,text):\n",
    "        self.autor=text\n",
    "    def cambiaDimensiones(self,scale):\n",
    "        self.lado1=self.lado1*scale\n",
    "        self.lado2=self.lado2*scale\n",
    "    \n",
    "rectangulo1 = Rectangulo()\n",
    "rectangulo1.descripcion2('gola')\n",
    "print(rectangulo1.descripción)\n",
    "print(rectangulo1.area())"
   ]
  },
  {
   "cell_type": "code",
   "execution_count": 27,
   "metadata": {},
   "outputs": [
    {
     "data": {
      "image/png": "[encoded data removed]",
      "text/plain": [
       "<Figure size 432x288 with 1 Axes>"
      ]
     },
     "metadata": {
      "needs_background": "light"
     },
     "output_type": "display_data"
    }
   ],
   "source": [
    "#Visualización con Python\n",
    "#generar un gráfico\n",
    "# se debe de importar las librerias matplot y numpy para la utilización de las gráficas\n",
    "import matplotlib.pyplot as plt\n",
    "import numpy as np\n",
    "\n",
    "N_points =100\n",
    "x=np.random.randn(N_points)\n",
    "y=.4*x\n",
    "plt.plot(x,y)\n",
    "plt.grid()"
   ]
  },
  {
   "cell_type": "code",
   "execution_count": 50,
   "metadata": {},
   "outputs": [
    {
     "data": {
      "image/png": "[encoded data removed]",
      "text/plain": [
       "<Figure size 432x288 with 1 Axes>"
      ]
     },
     "metadata": {
      "needs_background": "light"
     },
     "output_type": "display_data"
    }
   ],
   "source": [
    "# Gráfica nivel avanzado\n",
    "# se debe de importar las librerias matplot y numpy para la utilización de las gráficas\n",
    "import matplotlib\n",
    "import matplotlib.pyplot as plt\n",
    "import numpy as np\n",
    "\n",
    "#Números aleatorios\n",
    "np.random.seed(1234)\n",
    "# Generar datos de ejemplo\n",
    "mu = 100\n",
    "sigma = 15\n",
    "x = mu + sigma * np.random.randn(437)\n",
    "\n",
    "num_bins = 50\n",
    "fig, ax = plt.subplots()\n",
    "\n",
    "n,bins,patches =ax.hist(x,num_bins,density=1)\n",
    "\n",
    "#Función de densidad\n",
    "y = ((1 / (np.sqrt(2* np.pi)* sigma)) *\n",
    "     np.exp(-0.5*(1 / sigma * (bins - mu))**2))\n",
    "ax.plot(bins,y, '--')\n",
    "ax.set_xlabel('valores x')\n",
    "ax.set_ylabel('funciones de densidad')\n",
    "ax.set_title(r'Histograma: $\\mu=100, $\\sigma=15')\n",
    "\n",
    "fig.tight_layout()\n",
    "plt.show()\n"
   ]
  },
  {
   "cell_type": "code",
   "execution_count": null,
   "metadata": {},
   "outputs": [],
   "source": []
  }
 ],
 "metadata": {
  "kernelspec": {
   "display_name": "Python 3",
   "language": "python",
   "name": "python3"
  },
  "language_info": {
   "codemirror_mode": {
    "name": "ipython",
    "version": 3
   },
   "file_extension": ".py",
   "mimetype": "text/x-python",
   "name": "python",
   "nbconvert_exporter": "python",
   "pygments_lexer": "ipython3",
   "version": "3.7.6"
  }
 },
 "nbformat": 4,
 "nbformat_minor": 4
}
