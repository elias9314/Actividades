{
 "cells": [
  {
   "cell_type": "code",
   "execution_count": 9,
   "metadata": {},
   "outputs": [
    {
     "name": "stdout",
     "output_type": "stream",
     "text": [
      "0.9999999999622486\n"
     ]
    }
   ],
   "source": [
    "import math\n",
    "import numpy\n",
    "\n",
    "class Neurona:\n",
    "    entradas = []\n",
    "    peso = []\n",
    "    bias = 0\n",
    "    \n",
    "    def Sumatoriaponderada(self):\n",
    "        acum = self.bias\n",
    "        for x in range(0,len(self.entradas)):\n",
    "            acum = acum + self.entradas[x] * self.peso[x]\n",
    "        return acum\n",
    "    \n",
    "    def __sigmoid(self, x):\n",
    "        return 1 / (1 + math.exp(-x))\n",
    "    \n",
    "    def evaluar(self):\n",
    "        return self.__sigmoid(self.Sumatoriaponderada())\n",
    "    \n",
    "neurona1 = Neurona()\n",
    "neurona1.entradas = [4,4]\n",
    "neurona1.peso = [3,3]\n",
    "bias = 2\n",
    "suma = neurona1.evaluar()\n",
    "print(suma)\n",
    "        "
   ]
  },
  {
   "cell_type": "code",
   "execution_count": null,
   "metadata": {},
   "outputs": [],
   "source": []
  }
 ],
 "metadata": {
  "kernelspec": {
   "display_name": "Python 3",
   "language": "python",
   "name": "python3"
  },
  "language_info": {
   "codemirror_mode": {
    "name": "ipython",
    "version": 3
   },
   "file_extension": ".py",
   "mimetype": "text/x-python",
   "name": "python",
   "nbconvert_exporter": "python",
   "pygments_lexer": "ipython3",
   "version": "3.7.6"
  }
 },
 "nbformat": 4,
 "nbformat_minor": 4
}
