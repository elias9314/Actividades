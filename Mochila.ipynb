{
 "cells": [
  {
   "cell_type": "code",
   "execution_count": 2,
   "metadata": {},
   "outputs": [
    {
     "name": "stdout",
     "output_type": "stream",
     "text": [
      "Inserte la capacidad de la mochila: 40\n",
      "Inserte el numero de beneficio2\n",
      "numeros son :\n",
      "5\n",
      "6\n",
      "Inserte el peso de cada beneficio2\n",
      "los pesos son :\n",
      "10\n",
      "12\n",
      "La capacidad de la mochila es: 40.0\n",
      "[5, 6]\n",
      "[10, 12]\n",
      "0.5\n"
     ]
    }
   ],
   "source": [
    "import numpy as np\n",
    "import pandas as pd\n",
    "capacidad = float(input(\"Inserte la capacidad de la mochila: \"))\n",
    "beneficios= []\n",
    "numero = int(input(\"Inserte el numero de beneficio\"))\n",
    "print(\"numeros son :\")\n",
    "for i in range(numero):\n",
    "    data = int(input())\n",
    "    beneficios.append(data)\n",
    "peso= []\n",
    "numero2 = int(input(\"Inserte el peso de cada beneficio\"))\n",
    "print(\"los pesos son :\")\n",
    "for i in range(numero2):\n",
    "    data = int(input())\n",
    "    peso.append(data)\n",
    "orden = beneficios[i]/peso[i]\n",
    "\n",
    "print(\"La capacidad de la mochila es: \" +str(capacidad))\n",
    "\n",
    "print(beneficios)\n",
    "print(peso)\n",
    "print(orden)"
   ]
  },
  {
   "cell_type": "code",
   "execution_count": null,
   "metadata": {},
   "outputs": [],
   "source": [
    "import math\n",
    "import numpy\n",
    "\n",
    "class Objeto:\n",
    "    b = []\n",
    "    p = []\n",
    "    "
   ]
  },
  {
   "cell_type": "code",
   "execution_count": null,
   "metadata": {},
   "outputs": [],
   "source": []
  }
 ],
 "metadata": {
  "kernelspec": {
   "display_name": "Python 3",
   "language": "python",
   "name": "python3"
  },
  "language_info": {
   "codemirror_mode": {
    "name": "ipython",
    "version": 3
   },
   "file_extension": ".py",
   "mimetype": "text/x-python",
   "name": "python",
   "nbconvert_exporter": "python",
   "pygments_lexer": "ipython3",
   "version": "3.7.6"
  }
 },
 "nbformat": 4,
 "nbformat_minor": 4
}
