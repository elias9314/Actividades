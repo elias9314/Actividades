{
 "cells": [
  {
   "cell_type": "code",
   "execution_count": 19,
   "metadata": {},
   "outputs": [
    {
     "name": "stdout",
     "output_type": "stream",
     "text": [
      "Número de partidas ganadas con cambio 674 67.4%\n",
      "Número de partidas ganadas sin cambio 326 32.6%\n"
     ]
    }
   ],
   "source": [
    "import random\n",
    "numero_de_partidas = 1000 # número de partidas jugadas\n",
    "puertas = 3 # número de puertas\n",
    "ganadas_sin_cambio_puerta = 0 # Almacenamiento de las veces ganadas sin cambio de puerta\n",
    "ganadas_con_cambio_puerta = 0 # Almacenamiento de las veces ganadas con cambio de puerta\n",
    "\n",
    "for index in range(0,numero_de_partidas): # Inicializamos las puertas\n",
    "    puerta_ganadora = random.randrange(0,puertas) #Premio en una puerta\n",
    "    puerta_elegida = random.randrange(0,puertas) #Puerta que se va escoger \n",
    "    if puerta_ganadora!= puerta_elegida:\n",
    "        ganadas_con_cambio_puerta = ganadas_con_cambio_puerta + 1\n",
    "    else:\n",
    "        ganadas_sin_cambio_puerta= ganadas_sin_cambio_puerta + 1\n",
    "porcentaje_con_cambio = (ganadas_con_cambio_puerta/numero_de_partidas)*100\n",
    "porcentaje_sin_cambio =(ganadas_sin_cambio_puerta/numero_de_partidas)*100\n",
    "print(\"Número de partidas ganadas con cambio\" + \" \" +str(ganadas_con_cambio_puerta) + \" \" + str(porcentaje_con_cambio) + \"%\")\n",
    "print(\"Número de partidas ganadas sin cambio\" + \" \" +str(ganadas_sin_cambio_puerta) + \" \" + str(porcentaje_sin_cambio) + \"%\")\n"
   ]
  },
  {
   "cell_type": "code",
   "execution_count": null,
   "metadata": {},
   "outputs": [],
   "source": []
  },
  {
   "cell_type": "code",
   "execution_count": null,
   "metadata": {},
   "outputs": [],
   "source": []
  },
  {
   "cell_type": "code",
   "execution_count": null,
   "metadata": {},
   "outputs": [],
   "source": []
  },
  {
   "cell_type": "code",
   "execution_count": null,
   "metadata": {},
   "outputs": [],
   "source": []
  }
 ],
 "metadata": {
  "kernelspec": {
   "display_name": "Python 3",
   "language": "python",
   "name": "python3"
  },
  "language_info": {
   "codemirror_mode": {
    "name": "ipython",
    "version": 3
   },
   "file_extension": ".py",
   "mimetype": "text/x-python",
   "name": "python",
   "nbconvert_exporter": "python",
   "pygments_lexer": "ipython3",
   "version": "3.7.6"
  }
 },
 "nbformat": 4,
 "nbformat_minor": 4
}
